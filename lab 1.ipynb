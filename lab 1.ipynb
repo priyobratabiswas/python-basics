{
 "cells": [
  {
   "cell_type": "code",
   "execution_count": 15,
   "metadata": {},
   "outputs": [
    {
     "name": "stdout",
     "output_type": "stream",
     "text": [
      "hello world\n",
      "let's start with python\n",
      "so, we begin with strings\n"
     ]
    },
    {
     "name": "stdin",
     "output_type": "stream",
     "text": [
      "please enter you name :  p\n"
     ]
    },
    {
     "name": "stdout",
     "output_type": "stream",
     "text": [
      "Welcomme p\n",
      "P\n",
      "p\n",
      "P\n",
      "Subhankar sir always says,\"if you are facinng problem, google first\".\n",
      "Subhankar Sir always says,\"if you are facinng problem, google first\".\n"
     ]
    },
    {
     "name": "stdin",
     "output_type": "stream",
     "text": [
      "your first name please:  p\n",
      "your second name please : m\n"
     ]
    },
    {
     "name": "stdout",
     "output_type": "stream",
     "text": [
      ":      p\n",
      "m     :\n",
      ":p\n",
      "m     :\n",
      ":      p\n",
      "m:\n",
      ":p\n",
      "m:\n",
      ":      p\n",
      "m     :\n",
      ":p\tm        :\n",
      ":      p\tm:\n",
      ":p\tm:\n",
      "8\n",
      "8\n",
      "8\n",
      "8\n",
      "my fav num is 13\n"
     ]
    }
   ],
   "source": [
    "''' Messages '''\n",
    "\n",
    "# 2-1. Simple Message: Store a message in a variable, and then print that message .\n",
    "# Sample solution to 2-1\n",
    "message = \"hello world\"\n",
    "print(message)\n",
    "\n",
    "# 2-2. Simple Messages: Store a message in a variable, and print that message . Then change the value of your variable to a new message, and print the new message .\n",
    "message=\"let's start with python\"\n",
    "print(message)\n",
    "message=\"so, we begin with strings\"\n",
    "print(message)\n",
    "''' Strings \n",
    "You may refer to this for sample functions you might need to use.\n",
    "https://www.tutorialspoint.com/python/python_strings.htm\n",
    "'''\n",
    "\n",
    "# 2-3. Personal Message: Store a person’s name in a variable, and print a message to that person . Your message should be simple, such as, “Hello Eric, would you like to learn some Python today?”\n",
    "name=input(\"please enter you name : \")\n",
    "print(\"Welcomme \"+(name))\n",
    "# 2-4. Name Cases: Store a person’s name in a variable, and then print that person’s name in lowercase, uppercase, and titlecase .\n",
    "print(name.upper())\n",
    "print(name.lower())\n",
    "print(name.title())\n",
    "# 2-5. Famous Quote: Find a quote from a famous person you admire . Print the quote and the name of its author . Your output should look something like the following, including the quotation marks:\n",
    "# Albert Einstein once said, “A person who never made a mistake never tried anything new.”\n",
    "print('Subhankar sir always says,\"if you are facinng problem, google first\".')\n",
    "# 2-6. Famous Quote 2: Repeat Exercise 2-5, but this time store the famous person’s name in a variable called famous_person . Then compose your message and store it in a new variable called message . Print your message .\n",
    "famous=\"Subhankar Sir\"\n",
    "message=famous+' always says,\"if you are facinng problem, google first\".'\n",
    "print(message)\n",
    "# 2-7. Stripping Names: Store a person’s name, and include some whitespace characters at the beginning and end of the name . Make sure you use each character combination, \"\\t\" and \"\\n\", at least once .\n",
    "# Print the name once, so the whitespace around the name is displayed . Then print the name using each of the three stripping functions, lstrip(), rstrip(), and strip(). Some codes are given.\n",
    "fn=input(\"your first name please: \")\n",
    "sn=input(\"your second name please :\")\n",
    "name =  \"      \"+fn+\"\\n\"+sn+\"     \"\n",
    "\n",
    "print(\":\" + name + \":\")\n",
    "print(\":\" + name.lstrip() + \":\")\n",
    "print(\":\" + name.rstrip() + \":\")\n",
    "print(\":\" + name.strip() + \":\")\n",
    "\n",
    "nname=  \"      \"+fn+\"\\t\"+sn+\"        \"\n",
    "\n",
    "print(\":\" + name + \":\")\n",
    "print(\":\" + nname.lstrip() + \":\")\n",
    "print(\":\" + nname.rstrip() + \":\")\n",
    "print(\":\" + nname.strip() + \":\")\n",
    "\n",
    "\n",
    "''' Numbers '''\n",
    "\n",
    "# 2-8. Number Eight: Write addition, subtraction, multiplication, and division operations that each result in the number 8 . Be sure to enclose your operations in print statements to see the results . You should create four lines that look like this:\n",
    "# Your output should simply be four lines with the number 8 appearing once on each line .\n",
    "print(4+4)\n",
    "print(int(16/2))\n",
    "print(2*4)\n",
    "print(16-8)\n",
    "\n",
    "# 2-9. Favorite Number: Store your favorite number in a variable . Then, using that variable, create a message that reveals your favorite number . Print that message. (Use str())\n",
    "fav_num=13\n",
    "print(\"my fav num is \"+str(fav_num))"
   ]
  },
  {
   "cell_type": "code",
   "execution_count": null,
   "metadata": {},
   "outputs": [],
   "source": []
  }
 ],
 "metadata": {
  "kernelspec": {
   "display_name": "Python 3",
   "language": "python",
   "name": "python3"
  },
  "language_info": {
   "codemirror_mode": {
    "name": "ipython",
    "version": 3
   },
   "file_extension": ".py",
   "mimetype": "text/x-python",
   "name": "python",
   "nbconvert_exporter": "python",
   "pygments_lexer": "ipython3",
   "version": "3.7.3"
  }
 },
 "nbformat": 4,
 "nbformat_minor": 2
}
